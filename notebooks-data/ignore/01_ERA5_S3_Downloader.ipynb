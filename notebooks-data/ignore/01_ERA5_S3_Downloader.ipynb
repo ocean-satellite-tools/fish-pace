{
 "cells": [
  {
   "cell_type": "markdown",
   "id": "6e5622f3-af56-45b6-ac1f-f03b68441b70",
   "metadata": {},
   "source": [
    "# Download Copernicus ERA5 Data with S3 without logging in\n",
    "### Written by Minh Phan"
   ]
  },
  {
   "cell_type": "markdown",
   "id": "a284b6e8-dd4a-4948-89da-51831660da4a",
   "metadata": {},
   "source": [
    "In this tutorial, you will Download Copernicus ERA5 Data with S3 without logging in. Copernicus ERA5 is one of the most well-known reanalysis datasets on modern climate, *providing a numerical assessment of the modern climate*. Although we mentioned previously that streaming data in S3 is time-consuming if you're not in the local region, we had lots of luck using this dataset to get data quickly and seamlessly without much additional coding (slicing data temporally) as S3 streaming can handle big requests efficiently. Most of the codes we wrote in this notebook are modified from the original notebook [here](https://github.com/planet-os/notebooks/blob/master/aws/era5-pds.md)"
   ]
  },
  {
   "cell_type": "markdown",
   "id": "5a61ed02-f7a5-480b-a89c-76526d813686",
   "metadata": {},
   "source": [
    "## Variables"
   ]
  },
  {
   "cell_type": "markdown",
   "id": "7fd0f762-98fd-4c8e-86c5-e2499c2c1a8b",
   "metadata": {
    "tags": []
   },
   "source": [
    "The table below lists the 18 ERA5 variables that are available on S3. All variables are surface or single level parameters sourced from the HRES sub-daily forecast stream.\n",
    "\n",
    "<table>\n",
    "  <tr>\n",
    "    <th>Variable Name</th>\n",
    "    <th>File Name</th>\n",
    "\t<th>Variable type (fc/an)</th>\n",
    "  </tr>\n",
    "  <tr>\n",
    "    <td>10 metre U wind component</td>\n",
    "    <td>eastward_wind_at_10_metres.nc</td>\n",
    "\t<td>an</td>\n",
    "  </tr>\n",
    "  <tr>\n",
    "    <td>10 metre V wind component</td>\n",
    "    <td>northward_wind_at_10_metres.nc</td>\n",
    "\t<td>an</td>\n",
    "  </tr>\n",
    "  <tr>\n",
    "    <td>100 metre U wind component</td>\n",
    "    <td>eastward_wind_at_100_metres.nc</td>\n",
    "\t<td>an</td>\n",
    "  </tr>\n",
    "  <tr>\n",
    "    <td>100 metre V wind component</td>\n",
    "    <td>northward_wind_at_100_metres.nc</td>\n",
    "\t<td>an</td>\n",
    "  </tr>\n",
    "  <tr>\n",
    "    <td>2 metre dew point temperature</td>\n",
    "    <td>dew_point_temperature_at_2_metres.nc</td>\n",
    "\t<td>an</td>\n",
    "  </tr>\n",
    "  <tr>\n",
    "    <td>2 metre temperature</td>\n",
    "    <td>air_temperature_at_2_metres.nc</td>\n",
    "\t<td>an</td>\n",
    "  </tr>\n",
    "  <tr>\n",
    "    <td>2 metres maximum temperature since previous post-processing</td>\n",
    "    <td>air_temperature_at_2_metres_1hour_Maximum.nc</td>\n",
    "\t<td>fc</td>\n",
    "  </tr>\n",
    "  <tr>\n",
    "    <td>2 metres minimum temperature since previous post-processing</td>\n",
    "    <td>air_temperature_at_2_metres_1hour_Minimum.nc</td>\n",
    "\t<td>fc</td>\n",
    "  </tr>\n",
    "  <tr>\n",
    "    <td>Mean sea level pressure</td>\n",
    "    <td>air_pressure_at_mean_sea_level.nc</td>\n",
    "\t<td>an</td>\n",
    "  </tr>\n",
    "  <tr>\n",
    "    <td>Sea surface temperature</td>\n",
    "    <td>sea_surface_temperature.nc</td>\n",
    "\t<td>an</td>\n",
    "  </tr>\n",
    "  <tr>\n",
    "    <td>Mean wave period</td>\n",
    "    <td>sea_surface_wave_mean_period.nc</td>\n",
    "\t<td></td>\n",
    "  </tr>\n",
    "  <tr>\n",
    "    <td>Mean direction of waves</td>\n",
    "    <td>sea_surface_wave_from_direction.nc</td>\n",
    "\t<td></td>\n",
    "  </tr>\n",
    "  <tr>\n",
    "    <td>Significant height of combined wind waves and swell</td>\n",
    "    <td>significant_height_of_wind_and_swell_waves.nc</td>\n",
    "\t<td></td>\n",
    "  </tr>\n",
    "  <tr>\n",
    "    <td>Snow density</td>\n",
    "    <td>snow_density.nc</td>\n",
    "\t<td>an</td>\n",
    "  </tr>\n",
    "  <tr>\n",
    "    <td>Snow depth</td>\n",
    "    <td>lwe_thickness_of_surface_snow_amount.nc</td>\n",
    "\t<td>an</td>\n",
    "  </tr>\n",
    "  <tr>\n",
    "    <td>Surface pressure</td>\n",
    "    <td>surface_air_pressure.nc</td>\n",
    "\t<td>an</td>\n",
    "  </tr>\n",
    "  <tr>\n",
    "    <td>Surface solar radiation downwards</td>\n",
    "    <td>integral_wrt_time_of_surface_direct_downwelling_shortwave_flux_in_air_1hour_Accumulation.nc</td>\n",
    "\t<td>fc</td>\n",
    "  </tr>\n",
    "  <tr>\n",
    "    <td>Total precipitation</td>\n",
    "    <td>precipitation_amount_1hour_Accumulation.nc</td>\n",
    "\t<td>fc</td>\n",
    "</tr>\n",
    "</table>"
   ]
  },
  {
   "cell_type": "markdown",
   "id": "50f84277-9645-42b8-85a7-89720a0dcc50",
   "metadata": {},
   "source": [
    "For my dataset, we collect air temperature (at 2m), sea surface temperature, and u and v wind components so that we can compute speed and direction later."
   ]
  },
  {
   "cell_type": "markdown",
   "id": "c0192fe5-dc50-4b09-9b10-f9cc1ee54a72",
   "metadata": {},
   "source": [
    "## Import necessary libraries"
   ]
  },
  {
   "cell_type": "code",
   "execution_count": 1,
   "id": "06eece7e-7ec0-4405-8962-46fb8abf5c67",
   "metadata": {
    "tags": []
   },
   "outputs": [],
   "source": [
    "import boto3\n",
    "import botocore\n",
    "import datetime\n",
    "import matplotlib.pyplot as plt\n",
    "import os\n",
    "import xarray as xr\n",
    "import numpy as np\n",
    "import pandas as pd\n",
    "import sys"
   ]
  },
  {
   "cell_type": "markdown",
   "id": "00033d95-bcaf-43be-9e1a-6de5d27bd262",
   "metadata": {},
   "source": [
    "## Download data"
   ]
  },
  {
   "cell_type": "code",
   "execution_count": 2,
   "id": "0a4339b9-a003-4861-a020-b8e33e5b9c4b",
   "metadata": {
    "tags": []
   },
   "outputs": [],
   "source": [
    "era5_bucket = 'era5-pds'\n",
    "client = boto3.client('s3', config=botocore.client.Config(signature_version=botocore.UNSIGNED))"
   ]
  },
  {
   "cell_type": "code",
   "execution_count": 3,
   "id": "be58d7b4-9bf3-4351-a578-c4acca6a8575",
   "metadata": {
    "tags": []
   },
   "outputs": [],
   "source": [
    "def download_era5_s3(var_era5, month_start, month_end, lat1=5, lat2=25, lon1=60, lon2=80):\n",
    "    \"\"\"\n",
    "    var_era5: variable name\n",
    "    month_start: formatted as YYYY-MM \n",
    "    month_end: formatted as YYYY-MM (right-exclusive)\n",
    "    \"\"\"\n",
    "    s3_data_ptrn = '{year}/{month}/data/{var}.nc'\n",
    "    \n",
    "    path_temp_folder = 'demonstrated data/era5/temp'\n",
    "    path_var_folder = f'demonstrated data/era5/{var_era5}'\n",
    "    if not os.path.exists(path_temp_folder):\n",
    "        os.makedirs(path_temp_folder)\n",
    "    if not os.path.exists(path_var_folder):\n",
    "        os.makedirs(path_var_folder)\n",
    "    \n",
    "    data_file_ptrn = os.path.join(path_temp_folder,'{year}{month}_{var}.nc')\n",
    "    sliced_data_file_ptrn = os.path.join(path_var_folder, '{year}{month}_{var}.nc')\n",
    "    months = pd.date_range(month_start, month_end, freq='M')\n",
    "    for month in months:\n",
    "        s3_data_key = s3_data_ptrn.format(year=month.year, month=\"{:02d}\".format(month.month), var=var_era5)\n",
    "        data_file = data_file_ptrn.format(year=month.year, month=\"{:02d}\".format(month.month), var=var_era5)\n",
    "        if not os.path.isfile(data_file): # check if file already exists\n",
    "            print(\"Downloading %s from S3...\" % s3_data_key)\n",
    "            client.download_file(era5_bucket, s3_data_key, data_file)\n",
    "\n",
    "        export_file = sliced_data_file_ptrn.format(year = month.year, month = \"{:02d}\".format(month.month), var= var_era5)\n",
    "        xr.open_dataset(data_file).sel(lat=slice(lat2, lat1), lon=slice(lon1, lon2)).to_netcdf(export_file)\n",
    "        os.remove(data_file)"
   ]
  },
  {
   "cell_type": "code",
   "execution_count": 4,
   "id": "9f5de92b-639f-48f9-b828-bd1029b6e762",
   "metadata": {
    "tags": []
   },
   "outputs": [
    {
     "name": "stdout",
     "output_type": "stream",
     "text": [
      "Downloading 2003/01/data/eastward_wind_at_10_metres.nc from S3...\n",
      "Downloading 2003/02/data/eastward_wind_at_10_metres.nc from S3...\n",
      "Downloading 2003/01/data/northward_wind_at_10_metres.nc from S3...\n",
      "Downloading 2003/02/data/northward_wind_at_10_metres.nc from S3...\n"
     ]
    }
   ],
   "source": [
    "# download data for 4 variables we need \n",
    "# consult available names in the table above in the file name column (remove .nc)\n",
    "\n",
    "# month_end is not included in dataset (right-exclusive)\n",
    "download_era5_s3(var_era5='eastward_wind_at_10_metres', month_start='2003-01', month_end='2003-03')\n",
    "download_era5_s3(var_era5='northward_wind_at_10_metres', month_start='2003-01', month_end='2003-03')"
   ]
  },
  {
   "cell_type": "markdown",
   "id": "7c0c4b9e-8967-4676-9c22-235b3d8abc8d",
   "metadata": {},
   "source": [
    "## "
   ]
  }
 ],
 "metadata": {
  "kernelspec": {
   "display_name": "Python 3 (ipykernel)",
   "language": "python",
   "name": "python3"
  },
  "language_info": {
   "codemirror_mode": {
    "name": "ipython",
    "version": 3
   },
   "file_extension": ".py",
   "mimetype": "text/x-python",
   "name": "python",
   "nbconvert_exporter": "python",
   "pygments_lexer": "ipython3",
   "version": "3.10.14"
  }
 },
 "nbformat": 4,
 "nbformat_minor": 5
}
