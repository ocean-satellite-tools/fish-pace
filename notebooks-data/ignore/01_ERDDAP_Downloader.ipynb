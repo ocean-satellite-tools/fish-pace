{
 "cells": [
  {
   "cell_type": "markdown",
   "id": "d889f054-7403-4c2f-bc7e-5836fec3d490",
   "metadata": {
    "tags": []
   },
   "source": [
    "# Download data from NOAA ERDDAP using GRIDDAP\n",
    "### Written by Minh Phan"
   ]
  },
  {
   "cell_type": "markdown",
   "id": "6d6a1f05-4077-4273-97e2-47506a254915",
   "metadata": {},
   "source": [
    "**WE DO NOT USE ANY DATA GENERATED FROM THIS NOTEBOOK**\n",
    "\n",
    "This tutorial serves to provide one of many ways a user can download data from NOAA's ERDDAP HTML link template. Unlike NASA's EarthData, you don't need to register an account to download data from NOAA ERRDAP."
   ]
  },
  {
   "cell_type": "markdown",
   "id": "b7915563-58c3-42bf-89b7-71885f65e2c5",
   "metadata": {},
   "source": [
    "## Get to know GRIDDAP URL link template\n",
    "\n",
    "One of the datasets that we used in this project is [Reanalysis Data ERA5 monthly 3d Wind velocities](https://apdrc.soest.hawaii.edu/erddap/griddap/hawaii_soest_66d3_10d8_0f3c.html). For the default options, select file type as .nc (NetCDF3-binary file) and click 'Just generate the URL,' you can see the URL is then https://apdrc.soest.hawaii.edu/erddap/griddap/hawaii_soest_66d3_10d8_0f3c.nc?u[(2023-04-01T00:00:00Z):1:(2023-04-01T00:00:00Z)][(10.0):1:(1000.0)][(-90.0):1:(90.0)][(0.0):1:(359.75)],v[(2023-04-01T00:00:00Z):1:(2023-04-01T00:00:00Z)][(10.0):1:(1000.0)][(-90.0):1:(90.0)][(0.0):1:(359.75)] and it follows this template:\n",
    "\n",
    "<div style=\"display: inline\">https://apdrc.soest.hawaii.edu/erddap/griddap</div>/<b>DATASET_ID</b>.<b>FILE_EXTENSION</b> \n",
    "\n",
    "following by\n",
    "\n",
    "<b>VARIABLE_NAME1</b> [(<b>START_DIM1</b>):<b>STRIDE_DIM1</b>:(<b>STOP_DIM1</b>)][(<b>START_DIM2</b>):<b>STRIDE_DIM2</b>:(<b>STOP_DIM2</b>)][(<b>START_DIM3</b>):<b>STRIDE_DIM3</b>:(<b>STOP_DIM3</b>)]... \n",
    "\n",
    "and then\n",
    "\n",
    "\n",
    "<b>VARIABLE_NAME2</b>[(<b>START_DIM1</b>):<b>STRIDE_DIM1</b>:(<b>STOP_DIM1</b>)][(<b>START_DIM2</b>):<b>STRIDE_DIM2</b>:(<b>STOP_DIM2</b>)][(<b>START_DIM3</b>):<b>STRIDE_DIM3</b>:(<b>STOP_DIM3</b>)]... \n",
    "\n",
    "and so on for all the variables. To illustrate this template, you can liken it to downloading every variable as an Xarray DataArray, and combine them together based on the coordinates. In the URL above, the order and specifications of the dimension slicing options must be the consistent for all variables, just like how Xarray combining by coords only works if the coordinates are so. \n",
    "\n",
    "The template is also well-explained in [GRIDDAP documentation](https://coastwatch.pfeg.noaa.gov/erddap/griddap/documentation.html)."
   ]
  },
  {
   "cell_type": "markdown",
   "id": "23f52b9a-ad30-4e84-8290-2316e502a899",
   "metadata": {},
   "source": [
    "We can all agree that trying to write down every template for different datasets is error-prone and tedious, so you are more than welcome to copy and modify your template using the original file generator Python formatted strings to help with generating URLs for downloads. Since URLs vary greatly form dataset to dataset, there is no ideal URL template to consider, but we will still develop a function to generalize the URL generator to the best of my knowledge."
   ]
  },
  {
   "cell_type": "markdown",
   "id": "7389bfb1-e3b5-46fd-8223-620cb22a266d",
   "metadata": {},
   "source": [
    "**NOTE**: for the URL template, we focus on downloading smaller chunks of the dataset, sliced temporally just like downloading from the EarthData database so that the remote server would not be broken handling the request. We also recommend you to download variables together in one NetCDF3 file (multiple variable names in one URL) instead of individual variables as it takes time piecing them all together."
   ]
  },
  {
   "cell_type": "markdown",
   "id": "0843ce3f-27a4-474b-b167-657149bcbc68",
   "metadata": {},
   "source": [
    "## Import necessary libraries"
   ]
  },
  {
   "cell_type": "code",
   "execution_count": 1,
   "id": "e920966c-76d4-43ff-b3a2-7c11211ccbf9",
   "metadata": {
    "tags": []
   },
   "outputs": [],
   "source": [
    "import xarray as xr\n",
    "import numpy as np\n",
    "import pandas as pd\n",
    "import os, glob, shutil, urllib3"
   ]
  },
  {
   "cell_type": "markdown",
   "id": "cb3ff1d2-827d-4b0a-adfc-7d816526121d",
   "metadata": {},
   "source": [
    "## Download data\n",
    "\n",
    "Unlike NASA Earthdata, we can slice dataset spatially directly for every server request."
   ]
  },
  {
   "cell_type": "code",
   "execution_count": 28,
   "id": "18056501-1e97-4298-8045-68cbf07a6933",
   "metadata": {
    "tags": []
   },
   "outputs": [],
   "source": [
    "def download_ERDDAP_URLs(var):\n",
    "    # get list of URLs\n",
    "    URLs, months = ERDDAP_URL_template_generator(var)\n",
    "    http = urllib3.PoolManager()\n",
    "    \n",
    "    MAIN_FOLDER = 'demonstrated data/ERDDAP'\n",
    "    TEMP_FOLDER = var['datasetID']\n",
    "    path_temp_folder = os.path.join(MAIN_FOLDER, TEMP_FOLDER)\n",
    "    \n",
    "    if not os.path.exists(path_temp_folder):\n",
    "        os.makedirs(path_temp_folder)\n",
    "    \n",
    "    for URL, month in zip(URLs, months):\n",
    "        fileout = os.path.join(path_temp_folder, f\"{month.strftime('%Y%m')}.nc\")\n",
    "        \n",
    "        # download\n",
    "        with http.request('GET', URL, preload_content=False) as resp, open(fileout, 'wb') as out_file:\n",
    "            shutil.copyfileobj(resp, out_file)\n",
    "        \n",
    "        resp.release_conn()\n",
    "        \n",
    "        print('Downloaded ' + fileout)\n",
    "\n",
    "\n",
    "def ERDDAP_URL_template_generator(var) -> list():\n",
    "    \"\"\"\n",
    "    Generates a list of ERDDAP URLs for downloading\n",
    "    \n",
    "    Example of parameters shown below in next code cell.\n",
    "        - datasetID: 'erdTAgeo1day_LonPM180'\n",
    "        - variable_name ['u', 'v']\n",
    "        - coordinates: {'time': '2000-01:1:2000-03', 'altitude': '0:1:0', 'latitude': '-12:1:12', 'longitude': '42:1:102'}\n",
    "    NOTE: 'time' dimension must be listed in order (typical of ERDDAP URLs)\n",
    "    \"\"\"\n",
    "\n",
    "    list_of_URLS = []\n",
    "    time_ele = dimension_boundaries_ordered['time'].split(':')\n",
    "    start_month = time_ele[0]\n",
    "    end_month = time_ele[2]\n",
    "    stride_time = time_ele[1]\n",
    "    months = pd.date_range(start_month, end_month, freq='M')\n",
    "    for month_idx in range(len(months)):\n",
    "        URL = f'https://apdrc.soest.hawaii.edu/erddap/griddap/{var_dict['datasetID']}.nc?'\n",
    "        for var in var_dict['variable_names']:\n",
    "            URL = URL + var + f\"[({months[month_idx].strftime('%Y-%m')}-01):{stride_time}:({months[month_idx].strftime('%Y-%m-%d')})]\"\n",
    "            for d in list(var_dict['coordinates'].values())[1:]:\n",
    "                d_ele = d.split(':')\n",
    "                URL = URL + f\"[({d_ele[0]}):{d_ele[1]}:({d_ele[2]})]\"\n",
    "            URL = URL + \",\"\n",
    "        \n",
    "        # eliminate last comma\n",
    "        list_of_URLS.append(URL[:-1])\n",
    "        \n",
    "        # example\n",
    "        # url = \"https://apdrc.soest.hawaii.edu/erddap/griddap/hawaii_soest_66d3_10d8_0f3c.nc?\"\\\n",
    "        # f\"u[({months[month_idx].strftime('%Y-%m')}-01):1:({months[month_idx+1].strftime('%Y-%m')})][(10):1:(10)][(-12):1:(32)][(42):1:(102)],\"\\\n",
    "        # f\"v[({months[month_idx].strftime('%Y-%m')}-01):1:({months[month_idx+1].strftime('%Y-%m')})][(10):1:(10)][(-12):1:(32)][(42):1:(102)]\"\n",
    "    return list_of_URLS, months"
   ]
  },
  {
   "cell_type": "code",
   "execution_count": 29,
   "id": "8f598083-d0b4-42dd-b689-0e007e779d7e",
   "metadata": {
    "tags": []
   },
   "outputs": [
    {
     "data": {
      "text/plain": [
       "['https://apdrc.soest.hawaii.edu/erddap/griddap/hawaii_soest_66d3_10d8_0f3c.nc?u[(2000-01-01):1:(2000-01-31)][(10):1:(10)][(-12):1:(12)][(42):1:(102)],v[(2000-01-01):1:(2000-01-31)][(10):1:(10)][(-12):1:(12)][(42):1:(102)]',\n",
       " 'https://apdrc.soest.hawaii.edu/erddap/griddap/hawaii_soest_66d3_10d8_0f3c.nc?u[(2000-02-01):1:(2000-02-29)][(10):1:(10)][(-12):1:(12)][(42):1:(102)],v[(2000-02-01):1:(2000-02-29)][(10):1:(10)][(-12):1:(12)][(42):1:(102)]',\n",
       " 'https://apdrc.soest.hawaii.edu/erddap/griddap/hawaii_soest_66d3_10d8_0f3c.nc?u[(2000-03-01):1:(2000-03-31)][(10):1:(10)][(-12):1:(12)][(42):1:(102)],v[(2000-03-01):1:(2000-03-31)][(10):1:(10)][(-12):1:(12)][(42):1:(102)]',\n",
       " 'https://apdrc.soest.hawaii.edu/erddap/griddap/hawaii_soest_66d3_10d8_0f3c.nc?u[(2000-04-01):1:(2000-04-30)][(10):1:(10)][(-12):1:(12)][(42):1:(102)],v[(2000-04-01):1:(2000-04-30)][(10):1:(10)][(-12):1:(12)][(42):1:(102)]',\n",
       " 'https://apdrc.soest.hawaii.edu/erddap/griddap/hawaii_soest_66d3_10d8_0f3c.nc?u[(2000-05-01):1:(2000-05-31)][(10):1:(10)][(-12):1:(12)][(42):1:(102)],v[(2000-05-01):1:(2000-05-31)][(10):1:(10)][(-12):1:(12)][(42):1:(102)]',\n",
       " 'https://apdrc.soest.hawaii.edu/erddap/griddap/hawaii_soest_66d3_10d8_0f3c.nc?u[(2000-06-01):1:(2000-06-30)][(10):1:(10)][(-12):1:(12)][(42):1:(102)],v[(2000-06-01):1:(2000-06-30)][(10):1:(10)][(-12):1:(12)][(42):1:(102)]',\n",
       " 'https://apdrc.soest.hawaii.edu/erddap/griddap/hawaii_soest_66d3_10d8_0f3c.nc?u[(2000-07-01):1:(2000-07-31)][(10):1:(10)][(-12):1:(12)][(42):1:(102)],v[(2000-07-01):1:(2000-07-31)][(10):1:(10)][(-12):1:(12)][(42):1:(102)]',\n",
       " 'https://apdrc.soest.hawaii.edu/erddap/griddap/hawaii_soest_66d3_10d8_0f3c.nc?u[(2000-08-01):1:(2000-08-31)][(10):1:(10)][(-12):1:(12)][(42):1:(102)],v[(2000-08-01):1:(2000-08-31)][(10):1:(10)][(-12):1:(12)][(42):1:(102)]',\n",
       " 'https://apdrc.soest.hawaii.edu/erddap/griddap/hawaii_soest_66d3_10d8_0f3c.nc?u[(2000-09-01):1:(2000-09-30)][(10):1:(10)][(-12):1:(12)][(42):1:(102)],v[(2000-09-01):1:(2000-09-30)][(10):1:(10)][(-12):1:(12)][(42):1:(102)]']"
      ]
     },
     "execution_count": 29,
     "metadata": {},
     "output_type": "execute_result"
    }
   ],
   "source": [
    "var = {\n",
    "    'datasetID': 'hawaii_soest_66d3_10d8_0f3c',\n",
    "    'variable_names': ['u', 'v'],\n",
    "    'coordinates': {'time': '2000-01:1:2000-10', # must be in order of the ERDDAP dataset dimension list\n",
    "                    'LEV': '10:1:10', \n",
    "                    'latitude': '-12:1:12', \n",
    "                    'longitude': '42:1:102'}\n",
    "}\n",
    "\n",
    "ERDDAP_URL_template_generator(datasetID='hawaii_soest_66d3_10d8_0f3c', variable_names=['u', 'v'], dimension_boundaries_ordered={'time': '2000-01:1:2000-10', 'LEV': '10:1:10', 'latitude': '-12:1:12', 'longitude': '42:1:102'})"
   ]
  }
 ],
 "metadata": {
  "kernelspec": {
   "display_name": "Python 3 (ipykernel)",
   "language": "python",
   "name": "python3"
  },
  "language_info": {
   "codemirror_mode": {
    "name": "ipython",
    "version": 3
   },
   "file_extension": ".py",
   "mimetype": "text/x-python",
   "name": "python",
   "nbconvert_exporter": "python",
   "pygments_lexer": "ipython3",
   "version": "3.9.16"
  }
 },
 "nbformat": 4,
 "nbformat_minor": 5
}
